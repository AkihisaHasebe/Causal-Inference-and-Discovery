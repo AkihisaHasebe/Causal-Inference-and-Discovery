{
 "cells": [
  {
   "cell_type": "code",
   "execution_count": 6,
   "id": "de02baff",
   "metadata": {},
   "outputs": [],
   "source": [
    "import numpy as np\n",
    "import pandas as pd\n",
    "from scipy import stats\n",
    "\n",
    "import matplotlib.pyplot as plt\n",
    "plt.style.use('fivethirtyeight')"
   ]
  },
  {
   "cell_type": "code",
   "execution_count": 7,
   "id": "702ababf",
   "metadata": {},
   "outputs": [],
   "source": [
    "COLORS = [\n",
    "    '#00B0F0',\n",
    "    '#FF0000'\n",
    "]"
   ]
  },
  {
   "cell_type": "markdown",
   "id": "4d417229",
   "metadata": {},
   "source": [
    "# Additional code for data generating processes"
   ]
  },
  {
   "cell_type": "markdown",
   "id": "ac23d7d9",
   "metadata": {},
   "source": [
    "## Chapter 09"
   ]
  },
  {
   "cell_type": "markdown",
   "id": "7058fff7",
   "metadata": {},
   "source": [
    "### Post-training earnings data (simple)"
   ]
  },
  {
   "cell_type": "code",
   "execution_count": 39,
   "id": "865c3739",
   "metadata": {},
   "outputs": [],
   "source": [
    "SAMPLE_SIZE = 200\n",
    "MAX_AGE = 50\n",
    "\n",
    "age = stats.halfnorm.rvs(loc=19, scale=10, size=SAMPLE_SIZE).astype(int)\n",
    "age = np.where(age > MAX_AGE, np.random.choice(np.arange(20, MAX_AGE)), age)\n",
    "\n",
    "took_a_course = stats.bernoulli(p=10/age).rvs().astype(bool)\n",
    "\n",
    "earnings = 75000 + took_a_course * 10000 + age * 1000 + age**2 * 50 + np.random.randn(SAMPLE_SIZE) * 2000\n",
    "earnings = earnings.round()\n",
    "\n",
    "earnings = pd.DataFrame(dict(\n",
    "    age=age,\n",
    "    took_a_course=took_a_course,\n",
    "    earnings=earnings\n",
    "))"
   ]
  },
  {
   "cell_type": "code",
   "execution_count": 40,
   "id": "ca46d6ce",
   "metadata": {},
   "outputs": [
    {
     "data": {
      "text/plain": [
       "<matplotlib.collections.PathCollection at 0x1c786e7e0d0>"
      ]
     },
     "execution_count": 40,
     "metadata": {},
     "output_type": "execute_result"
    },
    {
     "data": {
      "image/png": "[encoded data removed]",
      "text/plain": [
       "<Figure size 432x288 with 1 Axes>"
      ]
     },
     "metadata": {},
     "output_type": "display_data"
    }
   ],
   "source": [
    "plt.scatter(earnings.age, earnings.earnings)"
   ]
  },
  {
   "cell_type": "code",
   "execution_count": 41,
   "id": "100a985c",
   "metadata": {},
   "outputs": [],
   "source": [
    "earnings.to_csv('data/ml_earnings.csv', index=False)"
   ]
  },
  {
   "cell_type": "markdown",
   "id": "567bbbbb",
   "metadata": {},
   "source": [
    "### Post-training earnings data (enhanced)"
   ]
  },
  {
   "cell_type": "code",
   "execution_count": 139,
   "id": "2d26efeb",
   "metadata": {},
   "outputs": [],
   "source": [
    "# Train set large\n",
    "SAMPLE_SIZE = 5000\n",
    "MAX_AGE = 50\n",
    "\n",
    "age = stats.halfnorm.rvs(loc=19, scale=10, size=SAMPLE_SIZE).astype(int)\n",
    "age = np.where(age > MAX_AGE, np.random.choice(np.arange(20, MAX_AGE)), age)\n",
    "\n",
    "took_a_course = stats.bernoulli(p=10/age).rvs().astype(bool)\n",
    "python_proficiency = np.random.uniform(0, 1, SAMPLE_SIZE)\n",
    "\n",
    "noise = np.random.randn(SAMPLE_SIZE)\n",
    "\n",
    "earnings = 75000 + took_a_course * 10000 + took_a_course * python_proficiency * 5000 + age * 1000 + age**2 * 50 + noise * 2000\n",
    "earnings = earnings.round()\n",
    "\n",
    "earnings = pd.DataFrame(dict(\n",
    "    age=age,\n",
    "    python_proficiency = python_proficiency,\n",
    "    took_a_course=took_a_course,\n",
    "    earnings=earnings\n",
    "))"
   ]
  },
  {
   "cell_type": "code",
   "execution_count": 140,
   "id": "99788d91",
   "metadata": {},
   "outputs": [],
   "source": [
    "earnings.to_csv('data/ml_earnings_interaction_train.csv', index=False)"
   ]
  },
  {
   "cell_type": "code",
   "execution_count": 143,
   "id": "555e6273",
   "metadata": {},
   "outputs": [],
   "source": [
    "# Test set\n",
    "SAMPLE_SIZE = 100\n",
    "MAX_AGE = 50\n",
    "\n",
    "age = stats.halfnorm.rvs(loc=19, scale=10, size=SAMPLE_SIZE).astype(int)\n",
    "age = np.where(age > MAX_AGE, np.random.choice(np.arange(20, MAX_AGE)), age)\n",
    "\n",
    "python_proficiency = np.random.uniform(0, 1, SAMPLE_SIZE)\n",
    "\n",
    "noise = np.random.randn(SAMPLE_SIZE)\n",
    "\n",
    "earnings_0 = (75000 + 0 * 10000 + 0 * python_proficiency * 5000 + age * 5000 + age**2 * 50 + noise * 2000).round()\n",
    "earnings_1 = (75000 + 1 * 10000 + 1 * python_proficiency * 5000 + age * 5000 + age**2 * 50 + noise * 2000).round()\n",
    "true_effect = earnings_1 - earnings_0\n",
    "\n",
    "earnings_test = pd.DataFrame(dict(\n",
    "    age=age,\n",
    "    python_proficiency=python_proficiency,\n",
    "    took_a_course=True,\n",
    "    true_effect=true_effect\n",
    "))"
   ]
  },
  {
   "cell_type": "code",
   "execution_count": 144,
   "id": "2763703c",
   "metadata": {},
   "outputs": [],
   "source": [
    "earnings_test.to_csv('data/ml_earnings_interaction_test.csv', index=False)"
   ]
  },
  {
   "cell_type": "code",
   "execution_count": null,
   "id": "f6603a9a",
   "metadata": {},
   "outputs": [],
   "source": []
  }
 ],
 "metadata": {
  "kernelspec": {
   "display_name": "Python [conda env:causal_book_py38]",
   "language": "python",
   "name": "conda-env-causal_book_py38-py"
  },
  "language_info": {
   "codemirror_mode": {
    "name": "ipython",
    "version": 3
   },
   "file_extension": ".py",
   "mimetype": "text/x-python",
   "name": "python",
   "nbconvert_exporter": "python",
   "pygments_lexer": "ipython3",
   "version": "3.8.13"
  }
 },
 "nbformat": 4,
 "nbformat_minor": 5
}
