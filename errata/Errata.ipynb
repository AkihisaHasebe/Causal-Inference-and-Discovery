{
 "cells": [
  {
   "cell_type": "markdown",
   "id": "d3201184",
   "metadata": {},
   "source": [
    "# Errata"
   ]
  },
  {
   "cell_type": "markdown",
   "id": "85952f08",
   "metadata": {},
   "source": [
    "## Chapter 06\n",
    "\n",
    "\n",
    "<font color='red'>**Figure 6.4**</font> representing DAG **e)** in the *Keep 'em d-separated* game is <font color='red'>**incorrect**</font>.\n",
    "\n",
    "The <font color='green'>**correct**</font> version of **Figure 6.4** is the following:\n",
    "\n",
    "<img src=\"img/ch_06__fig_6_4.png\" width=600>"
   ]
  },
  {
   "cell_type": "code",
   "execution_count": null,
   "id": "41efef50",
   "metadata": {},
   "outputs": [],
   "source": []
  }
 ],
 "metadata": {
  "kernelspec": {
   "display_name": "Python 3 (ipykernel)",
   "language": "python",
   "name": "python3"
  },
  "language_info": {
   "codemirror_mode": {
    "name": "ipython",
    "version": 3
   },
   "file_extension": ".py",
   "mimetype": "text/x-python",
   "name": "python",
   "nbconvert_exporter": "python",
   "pygments_lexer": "ipython3",
   "version": "3.9.7"
  }
 },
 "nbformat": 4,
 "nbformat_minor": 5
}
