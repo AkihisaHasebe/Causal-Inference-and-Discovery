{
 "cells": [
  {
   "cell_type": "markdown",
   "id": "d3201184",
   "metadata": {},
   "source": [
    "# Errata"
   ]
  },
  {
   "cell_type": "markdown",
   "id": "952febd2",
   "metadata": {},
   "source": [
    "## Chapter 04\n",
    "\n",
    "\n",
    "<font color='red'>**Figure 4.1**</font> is <font color='red'>**incorrect**</font>.\n",
    "\n",
    "The <font color='green'>**correct**</font> version of **Figure 4.1** is the following:\n",
    "\n",
    "<img src=\"img/ch_04__fig_4_1.png\" width=400>"
   ]
  },
  {
   "cell_type": "markdown",
   "id": "85952f08",
   "metadata": {},
   "source": [
    "## Chapter 06\n",
    "\n",
    "### You’re gonna keep ‘em d-separated\n",
    "\n",
    "\n",
    "<font color='red'>**Figure 6.3**</font> representing DAG **d)** in the *Keep 'em d-separated* game is <font color='red'>**incorrect**</font>.\n",
    "\n",
    "The <font color='green'>**correct**</font> version of **Figure 6.3** is the following:\n",
    "\n",
    "<img src=\"img/ch_06__fig_6_3.png\" width=450>\n",
    "\n",
    "<br><br>\n",
    "\n",
    "\n",
    "<font color='red'>**Figure 6.4**</font> representing DAG **e)** in the *Keep 'em d-separated* game is <font color='red'>**incorrect**</font>.\n",
    "\n",
    "The <font color='green'>**correct**</font> version of **Figure 6.4** is the following:\n",
    "\n",
    "<img src=\"img/ch_06__fig_6_4.png\" width=450>\n",
    "\n",
    "<br><br>\n",
    "\n",
    "\n",
    "<font color='red'>**Figure 6.5**</font> representing **all DAGs** in the *Keep 'em d-separated* game is <font color='red'>**incorrect**</font>.\n",
    "\n",
    "The <font color='green'>**correct**</font> version of **Figure 6.5** is the following:\n",
    "\n",
    "<img src=\"img/ch_06__fig_6_5.png\" width=650>\n",
    "\n",
    "\n",
    "### Instrumental variables\n",
    "\n",
    "**Page 121**\n",
    "\n",
    "In the book (p. 121) one of the formulas for regression models is <font color='red'>**incorrect**</font>. \n",
    "\n",
    "The book says:\n",
    "\n",
    "_________\n",
    "\n",
    "\n",
    "*To calculate the causal effect of X on Y in a linear case, all we need to do is fit two linear regression\n",
    "models and compute the ratio of their coefficients!*\n",
    "\n",
    "*The two models are as follows:*\n",
    "\n",
    "*• Y ~ Z*\n",
    "\n",
    "<font color='red'>*• Y ~ X*</font>\n",
    "\n",
    "_____________\n",
    "\n",
    "\n",
    "The <font color='green'>**correct**</font> formulas should be:\n",
    "\n",
    "_____________\n",
    "\n",
    "*The two models are as follows:*\n",
    "\n",
    "*• Y ~ Z*\n",
    "\n",
    "<font color='green'>*• X ~ Z*</font>\n",
    "\n",
    "__________________\n",
    "\n",
    "\n",
    "The **code example** below uses the <font color='green'>**correct formulas**</font>."
   ]
  },
  {
   "cell_type": "markdown",
   "id": "8c0953ef",
   "metadata": {},
   "source": [
    "## Chapter 07\n",
    "\n",
    "\n",
    "<font color='red'>**Figure 7.6**</font> is <font color='red'>**incorrect**</font>.\n",
    "\n",
    "The <font color='green'>**correct**</font> version of **Figure 7.16* is the following:\n",
    "\n",
    "<img src=\"img/ch_07__fig_7_6.png\" width=500>"
   ]
  }
 ],
 "metadata": {
  "kernelspec": {
   "display_name": "Python 3 (ipykernel)",
   "language": "python",
   "name": "python3"
  },
  "language_info": {
   "codemirror_mode": {
    "name": "ipython",
    "version": 3
   },
   "file_extension": ".py",
   "mimetype": "text/x-python",
   "name": "python",
   "nbconvert_exporter": "python",
   "pygments_lexer": "ipython3",
   "version": "3.9.7"
  }
 },
 "nbformat": 4,
 "nbformat_minor": 5
}
