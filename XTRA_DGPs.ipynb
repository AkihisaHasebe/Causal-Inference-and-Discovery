{
 "cells": [
  {
   "cell_type": "code",
   "execution_count": 1,
   "id": "865c3739",
   "metadata": {},
   "outputs": [],
   "source": [
    "# Chapter 09 DG ML Earnings\n",
    "import numpy as np\n",
    "import pandas as pd\n",
    "from scipy import stats\n",
    "\n",
    "SAMPLE_SIZE = 120\n",
    "MAX_AGE = 50\n",
    "\n",
    "age = stats.halfnorm.rvs(loc=19, scale=10, size=SAMPLE_SIZE).astype(int)\n",
    "age = np.where(age > MAX_AGE, np.random.choice(np.arange(20, MAX_AGE)), age)\n",
    "\n",
    "took_a_course = stats.bernoulli(p=10/age).rvs().astype(bool)\n",
    "\n",
    "earnings = 75000 + took_a_course * 10000 + age * 1000 + age**2 * 50 + np.random.randn(SAMPLE_SIZE) * 2000\n",
    "earnings = earnings.round()\n",
    "\n",
    "earnings = pd.DataFrame(dict(\n",
    "    age=age,\n",
    "    took_a_course=took_a_course,\n",
    "    earnings=earnings\n",
    "))"
   ]
  },
  {
   "cell_type": "code",
   "execution_count": null,
   "id": "829042e0",
   "metadata": {},
   "outputs": [],
   "source": []
  }
 ],
 "metadata": {
  "kernelspec": {
   "display_name": "Python [conda env:causal_book_py38]",
   "language": "python",
   "name": "conda-env-causal_book_py38-py"
  },
  "language_info": {
   "codemirror_mode": {
    "name": "ipython",
    "version": 3
   },
   "file_extension": ".py",
   "mimetype": "text/x-python",
   "name": "python",
   "nbconvert_exporter": "python",
   "pygments_lexer": "ipython3",
   "version": "3.8.13"
  }
 },
 "nbformat": 4,
 "nbformat_minor": 5
}
