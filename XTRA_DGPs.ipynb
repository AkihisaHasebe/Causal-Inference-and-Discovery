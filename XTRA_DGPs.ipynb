{
 "cells": [
  {
   "cell_type": "code",
   "execution_count": 6,
   "id": "54abc9f9",
   "metadata": {},
   "outputs": [],
   "source": [
    "import numpy as np\n",
    "import pandas as pd\n",
    "from scipy import stats\n",
    "\n",
    "import matplotlib.pyplot as plt\n",
    "plt.style.use('fivethirtyeight')"
   ]
  },
  {
   "cell_type": "code",
   "execution_count": 7,
   "id": "7a36b171",
   "metadata": {},
   "outputs": [],
   "source": [
    "COLORS = [\n",
    "    '#00B0F0',\n",
    "    '#FF0000'\n",
    "]"
   ]
  },
  {
   "cell_type": "markdown",
   "id": "3555f17e",
   "metadata": {},
   "source": [
    "## Additional code for data generating processes"
   ]
  },
  {
   "cell_type": "markdown",
   "id": "6434f228",
   "metadata": {},
   "source": [
    "## Chapter 09 - Earnings"
   ]
  },
  {
   "cell_type": "code",
   "execution_count": 2,
   "id": "865c3739",
   "metadata": {},
   "outputs": [],
   "source": [
    "SAMPLE_SIZE = 120\n",
    "MAX_AGE = 50\n",
    "\n",
    "age = stats.halfnorm.rvs(loc=19, scale=10, size=SAMPLE_SIZE).astype(int)\n",
    "age = np.where(age > MAX_AGE, np.random.choice(np.arange(20, MAX_AGE)), age)\n",
    "\n",
    "took_a_course = stats.bernoulli(p=10/age).rvs().astype(bool)\n",
    "\n",
    "earnings = 75000 + took_a_course * 10000 + age * 1000 + age**2 * 50 + np.random.randn(SAMPLE_SIZE) * 2000\n",
    "earnings = earnings.round()\n",
    "\n",
    "earnings = pd.DataFrame(dict(\n",
    "    age=age,\n",
    "    took_a_course=took_a_course,\n",
    "    earnings=earnings\n",
    "))"
   ]
  }
 ],
 "metadata": {
  "kernelspec": {
   "display_name": "Python [conda env:causal_book_py38]",
   "language": "python",
   "name": "conda-env-causal_book_py38-py"
  },
  "language_info": {
   "codemirror_mode": {
    "name": "ipython",
    "version": 3
   },
   "file_extension": ".py",
   "mimetype": "text/x-python",
   "name": "python",
   "nbconvert_exporter": "python",
   "pygments_lexer": "ipython3",
   "version": "3.8.13"
  }
 },
 "nbformat": 4,
 "nbformat_minor": 5
}
