{
 "cells": [
  {
   "cell_type": "code",
   "execution_count": 30,
   "id": "5edb0b25",
   "metadata": {},
   "outputs": [],
   "source": [
    "import numpy as np\n",
    "from scipy import stats\n",
    "\n",
    "import matplotlib.pyplot as plt\n",
    "plt.style.use('fivethirtyeight')"
   ]
  },
  {
   "cell_type": "markdown",
   "id": "4113c9c0",
   "metadata": {},
   "source": [
    "# Chapter 01\n",
    "\n",
    "This chapter introduces the concept of causality and highlights similarities and differences between causal inference and statistical learning. A brief historical outline of the concept of causality is provided to help the reader understand a broader context. Finally, three motivating examples are provided (medicine, marketing, social policy) to demonstrate the importance of causal inference in terms of technical, practical and business perspectives. "
   ]
  },
  {
   "cell_type": "markdown",
   "id": "152d0178",
   "metadata": {},
   "source": [
    "## Confounding "
   ]
  },
  {
   "cell_type": "code",
   "execution_count": 27,
   "id": "0540752f",
   "metadata": {},
   "outputs": [],
   "source": [
    "np.random.seed(45)\n",
    "\n",
    "b = np.random.rand(100)\n",
    "\n",
    "a = b + .3 * np.random.rand(100)\n",
    "c = b + .4 * np.random.rand(100)"
   ]
  },
  {
   "cell_type": "code",
   "execution_count": 28,
   "id": "2666e7c9",
   "metadata": {},
   "outputs": [
    {
     "name": "stdout",
     "output_type": "stream",
     "text": [
      "0.9087938658416763\n"
     ]
    }
   ],
   "source": [
    "coef, p_val = stats.pearsonr(a, c)\n",
    "\n",
    "print(coef)"
   ]
  },
  {
   "cell_type": "code",
   "execution_count": 31,
   "id": "77458825",
   "metadata": {},
   "outputs": [
    {
     "data": {
      "text/plain": [
       "<matplotlib.collections.PathCollection at 0x23208731fd0>"
      ]
     },
     "execution_count": 31,
     "metadata": {},
     "output_type": "execute_result"
    },
    {
     "data": {
      "image/png": "[encoded data removed]",
      "text/plain": [
       "<Figure size 432x288 with 1 Axes>"
      ]
     },
     "metadata": {},
     "output_type": "display_data"
    }
   ],
   "source": [
    "plt.scatter(a, c)"
   ]
  },
  {
   "cell_type": "code",
   "execution_count": null,
   "id": "4e1ab2c7",
   "metadata": {},
   "outputs": [],
   "source": []
  }
 ],
 "metadata": {
  "kernelspec": {
   "display_name": "Python [conda env:causal_book_py38]",
   "language": "python",
   "name": "conda-env-causal_book_py38-py"
  },
  "language_info": {
   "codemirror_mode": {
    "name": "ipython",
    "version": 3
   },
   "file_extension": ".py",
   "mimetype": "text/x-python",
   "name": "python",
   "nbconvert_exporter": "python",
   "pygments_lexer": "ipython3",
   "version": "3.8.13"
  }
 },
 "nbformat": 4,
 "nbformat_minor": 5
}
