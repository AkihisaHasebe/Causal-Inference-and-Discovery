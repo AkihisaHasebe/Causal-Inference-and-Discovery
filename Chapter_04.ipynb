{
 "cells": [
  {
   "cell_type": "code",
   "execution_count": 2,
   "id": "d885824b",
   "metadata": {},
   "outputs": [],
   "source": [
    "import numpy as np\n",
    "from scipy import stats\n",
    "\n",
    "import matplotlib.pyplot as plt\n",
    "plt.style.use('fivethirtyeight')\n",
    "\n",
    "import graphviz"
   ]
  },
  {
   "cell_type": "code",
   "execution_count": 3,
   "id": "7a2494ed",
   "metadata": {},
   "outputs": [],
   "source": [
    "COLORS = [\n",
    "    '#00B0F0',\n",
    "    '#FF0000'\n",
    "]"
   ]
  },
  {
   "cell_type": "markdown",
   "id": "a0fd06fd",
   "metadata": {},
   "source": [
    "# Chapter 04\n",
    "\n",
    "In this chapter we focus on graphical models for causal inference. We start with a refresher on graphs. Next, we introduce a concept of graphical models and directed  acyclic graphs. Finally, we discuss the limitations of DAGs and show a couple of different approaches to model cyclic relationships. This and next chapter are critical to understand the very essence of causal inference as understood in this book."
   ]
  },
  {
   "cell_type": "markdown",
   "id": "01c104e3",
   "metadata": {},
   "source": [
    "## Visualizations"
   ]
  },
  {
   "cell_type": "code",
   "execution_count": 4,
   "id": "e2e20d61",
   "metadata": {},
   "outputs": [],
   "source": [
    "# Plot\n",
    "# DAG\n",
    "# DCG\n",
    "# CPDAG\n",
    "# Unconnected \n",
    "# Fully connected undirected\n",
    "# Partially connected"
   ]
  },
  {
   "cell_type": "code",
   "execution_count": 5,
   "id": "15ce38f8",
   "metadata": {},
   "outputs": [],
   "source": [
    "nodes = ['A', 'B', 'C', 'D']"
   ]
  },
  {
   "cell_type": "code",
   "execution_count": 53,
   "id": "8464768d",
   "metadata": {},
   "outputs": [],
   "source": [
    "# Define graphs\n",
    "graphs = {\n",
    "    \n",
    "    'DAG': {\n",
    "        'graph': graphviz.Digraph(format='png'),\n",
    "        'edges': ['AB', 'BC', 'AD', 'DC']\n",
    "    },\n",
    "    \n",
    "    'DCG': {\n",
    "        'graph': graphviz.Digraph(format='png'),\n",
    "        'edges': ['AB', 'AD', 'BB', 'BC', 'DC', 'CA']\n",
    "    },\n",
    "    \n",
    "    'Undirected': {\n",
    "        'graph': graphviz.Graph(format='png'),\n",
    "        'edges': ['AB', 'BC', 'AD', 'DC']\n",
    "    }, \n",
    "    \n",
    "    'Fully connected': {\n",
    "        'graph': graphviz.Graph(format='png'),\n",
    "        'edges': ['AB', 'AC', 'AD', 'BC', 'BD', 'CD']\n",
    "    },\n",
    "    \n",
    "    'Partially connected': {\n",
    "        'graph': graphviz.Graph(format='png'),\n",
    "        'edges': ['AB', 'AC', 'BC']\n",
    "    }\n",
    "}\n",
    "\n",
    "\n",
    "# Iterate over graphs and render\n",
    "for name, graph in graphs.items():\n",
    "    \n",
    "    [graph['graph'].node(n) for n in nodes]\n",
    "    graph['graph'].edges(graph['edges'])\n",
    "    \n",
    "    graph['graph'].render(f'img/ch_04_graph_{name}')"
   ]
  },
  {
   "cell_type": "code",
   "execution_count": null,
   "id": "7abc7f9a",
   "metadata": {},
   "outputs": [],
   "source": []
  }
 ],
 "metadata": {
  "kernelspec": {
   "display_name": "Python [conda env:causal_book_py38]",
   "language": "python",
   "name": "conda-env-causal_book_py38-py"
  },
  "language_info": {
   "codemirror_mode": {
    "name": "ipython",
    "version": 3
   },
   "file_extension": ".py",
   "mimetype": "text/x-python",
   "name": "python",
   "nbconvert_exporter": "python",
   "pygments_lexer": "ipython3",
   "version": "3.8.13"
  }
 },
 "nbformat": 4,
 "nbformat_minor": 5
}
