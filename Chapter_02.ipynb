{
 "cells": [
  {
   "cell_type": "code",
   "execution_count": 3,
   "id": "d885824b",
   "metadata": {},
   "outputs": [],
   "source": [
    "import numpy as np\n",
    "from scipy import stats\n",
    "\n",
    "import matplotlib.pyplot as plt\n",
    "plt.style.use('fivethirtyeight')"
   ]
  },
  {
   "cell_type": "code",
   "execution_count": 2,
   "id": "7a2494ed",
   "metadata": {},
   "outputs": [],
   "source": [
    "COLORS = [\n",
    "    '#00B0F0',\n",
    "    '#FF0000'\n",
    "]"
   ]
  },
  {
   "cell_type": "markdown",
   "id": "a0fd06fd",
   "metadata": {},
   "source": [
    "# Chapter 02\n",
    "\n",
    "This chapter introduces the concept of “the ladder of causation”. We focus on highlighting differences between three main concepts: associations, interventions and counterfactuals. We provide the reader with a couple of thought experiments to strengthen the understanding of these concepts and implement these experiments in Python. Finally, we demonstrate how counterfactuals can be used for model prediction explanations (e.g. in finance)."
   ]
  },
  {
   "cell_type": "markdown",
   "id": "c6c49b0c",
   "metadata": {},
   "source": [
    "## Association"
   ]
  },
  {
   "cell_type": "markdown",
   "id": "2be8da82",
   "metadata": {},
   "source": [
    "### Bookstore example"
   ]
  },
  {
   "cell_type": "code",
   "execution_count": 318,
   "id": "7f5e9d21",
   "metadata": {},
   "outputs": [],
   "source": [
    "# First, we'll build a structural causal model (SCM)\n",
    "class BookSCM:\n",
    "    \n",
    "    def __init__(self, random_seed=None):\n",
    "        self.random_seed = random_seed\n",
    "        self.u_0 = stats.uniform()\n",
    "        self.u_1 = stats.norm()\n",
    "        \n",
    "    def sample(self, sample_size=100):\n",
    "        \"\"\"Samples from the SCM\"\"\"\n",
    "        if self.random_seed:\n",
    "            np.random.seed(self.random_seed)\n",
    "        \n",
    "        u_0 = self.u_0.rvs(sample_size)\n",
    "        u_1 = self.u_1.rvs(sample_size)\n",
    "        a = u_0 > .61\n",
    "        b = (a + .5 * u_1) > .2\n",
    "        \n",
    "        return a, b"
   ]
  },
  {
   "cell_type": "code",
   "execution_count": 373,
   "id": "5e1ea2e0",
   "metadata": {},
   "outputs": [],
   "source": [
    "# Let's initialize our SCM\n",
    "scm = BookSCM(random_seed=45)"
   ]
  },
  {
   "cell_type": "code",
   "execution_count": 374,
   "id": "fbf25307",
   "metadata": {},
   "outputs": [],
   "source": [
    "# ...and sample from it\n",
    "buy_book_a, buy_book_b = scm.sample(100)"
   ]
  },
  {
   "cell_type": "code",
   "execution_count": 375,
   "id": "9a42fd00",
   "metadata": {},
   "outputs": [
    {
     "data": {
      "text/plain": [
       "((100,), (100,))"
      ]
     },
     "execution_count": 375,
     "metadata": {},
     "output_type": "execute_result"
    }
   ],
   "source": [
    "# Sanity check\n",
    "buy_book_a.shape, buy_book_b.shape"
   ]
  },
  {
   "cell_type": "code",
   "execution_count": 376,
   "id": "9cfaa047",
   "metadata": {},
   "outputs": [
    {
     "name": "stdout",
     "output_type": "stream",
     "text": [
      "Probability of buying book A: 0.390\n",
      "Probability of buying book B: 0.580\n",
      "Probability of buying book A given B: 0.638\n",
      "Probability of buying book B given A: 0.949\n"
     ]
    }
   ],
   "source": [
    "# Let's compute probabilities\n",
    "proba_book_a = buy_book_a.sum() / buy_book_a.shape[0]\n",
    "proba_book_b = buy_book_b.sum() / buy_book_b.shape[0]\n",
    "\n",
    "print(f'Probability of buying book A: {proba_book_a:0.3f}')\n",
    "print(f'Probability of buying book B: {proba_book_b:0.3f}')\n",
    "\n",
    "# ...and conditional probailities\n",
    "proba_book_a_given_book_b = np.where(buy_book_b, buy_book_a, 0).sum() / buy_book_b.sum()\n",
    "proba_book_b_given_book_a = np.where(buy_book_a, buy_book_b, 0).sum() / buy_book_a.sum()\n",
    "\n",
    "print(f'Probability of buying book A given B: {proba_book_a_given_book_b:0.3f}')\n",
    "print(f'Probability of buying book B given A: {proba_book_b_given_book_a:0.3f}')"
   ]
  },
  {
   "cell_type": "markdown",
   "id": "735d33fe",
   "metadata": {},
   "source": [
    "## Intervention"
   ]
  },
  {
   "cell_type": "code",
   "execution_count": 431,
   "id": "125275ff",
   "metadata": {},
   "outputs": [
    {
     "name": "stdout",
     "output_type": "stream",
     "text": [
      "Mean of B before any intervention: -0.620\n",
      "Variance of B before any intervention: 22.667\n",
      "Correlation between A and B:\n",
      "r = 0.978; p = 0.000\n",
      "\n",
      "Mean of B after the intervention on A: 7.575\n",
      "Variance of B after the intervention on A: 1.003\n",
      "\n",
      "Mean of B after the intervention on B: 0.186\n",
      "Variance of B after the intervention on B: 0.995\n",
      "Correlation between A and B after intervening on B:\n",
      "r = -0.023; p = 0.821\n",
      "\n"
     ]
    }
   ],
   "source": [
    "SAMPLE_SIZE = 100\n",
    "\n",
    "np.random.seed(45)\n",
    "\n",
    "u_0 = np.random.randn(SAMPLE_SIZE)\n",
    "u_1 = np.random.randn(SAMPLE_SIZE)\n",
    "a = u_0\n",
    "b = 5 * a + u_1\n",
    "\n",
    "r, p = stats.pearsonr(a, b)\n",
    "\n",
    "print(f'Mean of B before any intervention: {b.mean():.3f}')\n",
    "print(f'Variance of B before any intervention: {b.var():.3f}')\n",
    "print(f'Correlation between A and B:\\nr = {r:.3f}; p = {p:.3f}\\n')\n",
    "\n",
    "a = np.array([1.5] * SAMPLE_SIZE)\n",
    "b = 5 * a + u_1\n",
    "\n",
    "print(f'Mean of B after the intervention on A: {b.mean():.3f}')\n",
    "print(f'Variance of B after the intervention on A: {b.var():.3f}\\n')\n",
    "\n",
    "a = u_0\n",
    "b = np.random.randn(SAMPLE_SIZE)\n",
    "\n",
    "r, p = stats.pearsonr(a, b)\n",
    "\n",
    "print(f'Mean of B after the intervention on B: {b.mean():.3f}')\n",
    "print(f'Variance of B after the intervention on B: {b.var():.3f}')\n",
    "print(f'Correlation between A and B after intervening on B:\\nr = {r:.3f}; p = {p:.3f}\\n')"
   ]
  },
  {
   "cell_type": "markdown",
   "id": "1d17be2b",
   "metadata": {},
   "source": [
    "## Counterfactuals"
   ]
  },
  {
   "cell_type": "markdown",
   "id": "64a2d342",
   "metadata": {},
   "source": [
    "We'll use the following SCM:\n",
    "\n",
    "$$\\large Y := TU + (T-1)(U-1)$$"
   ]
  },
  {
   "cell_type": "code",
   "execution_count": 494,
   "id": "ac4c9175",
   "metadata": {},
   "outputs": [],
   "source": [
    "class CounterfactualSCM:\n",
    "    \n",
    "    def abduct(self, t, y):\n",
    "        return (t + y - 1)/(2*t - 1)\n",
    "    \n",
    "    def modify(self, t):\n",
    "        return lambda u: t * u + (t - 1) * (u - 1)\n",
    "        \n",
    "    def predict(self, u, t):\n",
    "        return self.modify(t)(u)"
   ]
  },
  {
   "cell_type": "code",
   "execution_count": 495,
   "id": "060be2c3",
   "metadata": {},
   "outputs": [],
   "source": [
    "coffee = CounterfactualSCM()\n",
    "t = 1\n",
    "y = 1"
   ]
  },
  {
   "cell_type": "code",
   "execution_count": 496,
   "id": "b40ca681",
   "metadata": {},
   "outputs": [
    {
     "data": {
      "text/plain": [
       "1.0"
      ]
     },
     "execution_count": 496,
     "metadata": {},
     "output_type": "execute_result"
    }
   ],
   "source": [
    "u = coffee.abduct(t=t, y=y)\n",
    "u"
   ]
  },
  {
   "cell_type": "code",
   "execution_count": 497,
   "id": "f0d28a6f",
   "metadata": {},
   "outputs": [
    {
     "data": {
      "text/plain": [
       "0.0"
      ]
     },
     "execution_count": 497,
     "metadata": {},
     "output_type": "execute_result"
    }
   ],
   "source": [
    "coffee.predict(u=u, t=0)"
   ]
  }
 ],
 "metadata": {
  "kernelspec": {
   "display_name": "Python [conda env:causal_book_py38]",
   "language": "python",
   "name": "conda-env-causal_book_py38-py"
  },
  "language_info": {
   "codemirror_mode": {
    "name": "ipython",
    "version": 3
   },
   "file_extension": ".py",
   "mimetype": "text/x-python",
   "name": "python",
   "nbconvert_exporter": "python",
   "pygments_lexer": "ipython3",
   "version": "3.8.13"
  }
 },
 "nbformat": 4,
 "nbformat_minor": 5
}
